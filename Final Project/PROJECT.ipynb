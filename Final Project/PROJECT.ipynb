{
  "cells": [
    {
      "cell_type": "code",
      "execution_count": null,
      "metadata": {
        "colab": {
          "base_uri": "https://localhost:8080/"
        },
        "id": "VOdkUwg-skRI",
        "outputId": "3f3cfd05-2b55-4dc0-82ec-0f832a0bd8b6"
      },
      "outputs": [
        {
          "output_type": "stream",
          "name": "stdout",
          "text": [
            "Collecting sastrawi\n",
            "  Downloading Sastrawi-1.0.1-py2.py3-none-any.whl (209 kB)\n",
            "\u001b[2K     \u001b[90m━━━━━━━━━━━━━━━━━━━━━━━━━━━━━━━━━━━━━━━━\u001b[0m \u001b[32m209.7/209.7 kB\u001b[0m \u001b[31m3.3 MB/s\u001b[0m eta \u001b[36m0:00:00\u001b[0m\n",
            "\u001b[?25hInstalling collected packages: sastrawi\n",
            "Successfully installed sastrawi-1.0.1\n"
          ]
        }
      ],
      "source": [
        "pip install sastrawi"
      ]
    },
    {
      "cell_type": "code",
      "execution_count": null,
      "metadata": {
        "colab": {
          "base_uri": "https://localhost:8080/"
        },
        "id": "MbzJoNtVVkHl",
        "outputId": "c0589657-e11f-42e0-8f6f-bf5036192ba9"
      },
      "outputs": [
        {
          "output_type": "stream",
          "name": "stdout",
          "text": [
            "Requirement already satisfied: seaborn in /usr/local/lib/python3.10/dist-packages (0.12.2)\n",
            "Requirement already satisfied: matplotlib in /usr/local/lib/python3.10/dist-packages (3.7.1)\n",
            "Requirement already satisfied: numpy!=1.24.0,>=1.17 in /usr/local/lib/python3.10/dist-packages (from seaborn) (1.23.5)\n",
            "Requirement already satisfied: pandas>=0.25 in /usr/local/lib/python3.10/dist-packages (from seaborn) (1.5.3)\n",
            "Requirement already satisfied: contourpy>=1.0.1 in /usr/local/lib/python3.10/dist-packages (from matplotlib) (1.2.0)\n",
            "Requirement already satisfied: cycler>=0.10 in /usr/local/lib/python3.10/dist-packages (from matplotlib) (0.12.1)\n",
            "Requirement already satisfied: fonttools>=4.22.0 in /usr/local/lib/python3.10/dist-packages (from matplotlib) (4.47.0)\n",
            "Requirement already satisfied: kiwisolver>=1.0.1 in /usr/local/lib/python3.10/dist-packages (from matplotlib) (1.4.5)\n",
            "Requirement already satisfied: packaging>=20.0 in /usr/local/lib/python3.10/dist-packages (from matplotlib) (23.2)\n",
            "Requirement already satisfied: pillow>=6.2.0 in /usr/local/lib/python3.10/dist-packages (from matplotlib) (9.4.0)\n",
            "Requirement already satisfied: pyparsing>=2.3.1 in /usr/local/lib/python3.10/dist-packages (from matplotlib) (3.1.1)\n",
            "Requirement already satisfied: python-dateutil>=2.7 in /usr/local/lib/python3.10/dist-packages (from matplotlib) (2.8.2)\n",
            "Requirement already satisfied: pytz>=2020.1 in /usr/local/lib/python3.10/dist-packages (from pandas>=0.25->seaborn) (2023.3.post1)\n",
            "Requirement already satisfied: six>=1.5 in /usr/local/lib/python3.10/dist-packages (from python-dateutil>=2.7->matplotlib) (1.16.0)\n"
          ]
        }
      ],
      "source": [
        "pip install seaborn matplotlib"
      ]
    },
    {
      "cell_type": "code",
      "execution_count": null,
      "metadata": {
        "id": "Pq8c2i2mr1Ap"
      },
      "outputs": [],
      "source": [
        "pip install sastrawi\n",
        "pip install seaborn matplotlib\n",
        "import pandas as pd\n",
        "from sklearn.feature_extraction.text import TfidfTransformer\n",
        "from sklearn.feature_extraction.text import TfidfVectorizer\n",
        "from sklearn.naive_bayes import MultinomialNB\n",
        "from sklearn.model_selection import train_test_split\n",
        "from Sastrawi.Stemmer.StemmerFactory import StemmerFactory\n",
        "from string import punctuation\n",
        "import re\n",
        "import seaborn as sns\n",
        "import matplotlib.pyplot as plt\n",
        "from sklearn.metrics import confusion_matrix, classification_report\n",
        "from imblearn.over_sampling import RandomOverSampler\n",
        "from sklearn.metrics import precision_score, recall_score, f1_score, accuracy_score\n",
        "from sklearn.naive_bayes import GaussianNB, MultinomialNB"
      ]
    },
    {
      "cell_type": "markdown",
      "source": [
        "Dataset"
      ],
      "metadata": {
        "id": "myViuHpHqXRv"
      }
    },
    {
      "cell_type": "code",
      "execution_count": null,
      "metadata": {
        "colab": {
          "base_uri": "https://localhost:8080/"
        },
        "id": "0twq3IOgsuAp",
        "outputId": "101dc520-2bb2-43ab-cbcd-38d5208be91e"
      },
      "outputs": [
        {
          "output_type": "stream",
          "name": "stdout",
          "text": [
            "   id                                               text  rating     category  \\\n",
            "0   1             Barang sesuai pesanan dan cepat sampai       5  pertukangan   \n",
            "1   2                           Barang bagus harga murah       5  pertukangan   \n",
            "2   3    Paket rapi...mantap....cepat....sampe ke tujuan       5  pertukangan   \n",
            "3   4                         ya saya puas dgn barangnya       5  pertukangan   \n",
            "4   5                       Responya luar biasa b mantap       5  pertukangan   \n",
            "5   6            seller top, pengiriman cepat barang oke       5  pertukangan   \n",
            "6   7                        pengiriman cepat seller top       5  pertukangan   \n",
            "7   8  Produk sesuai dengan spec di web dan respon se...       5  pertukangan   \n",
            "8  10  Respon super cepat, pengiriman cepat, Barang b...       5  pertukangan   \n",
            "9  11                     Barang mantap, pelayanan cepat       5  pertukangan   \n",
            "\n",
            "                                        product_name  product_id sold  \\\n",
            "0  Staples Dekorasi Staples Kayu + Refill 8mm - S...   418660637    1   \n",
            "1  STAPLE GUN ATS 3 WAY TACKER - STAPLES JOK TEMB...   416032545   11   \n",
            "2  STAPLE GUN ATS 3 WAY TACKER - STAPLES JOK TEMB...   416032545   11   \n",
            "3  ALAT STAPLES TEMBAK &#40;AIR NAILER GUN&#41; O...   102279869    5   \n",
            "4  Isi Refill Staples Jok Kulit Motor / Staple Gu...   190679689  787   \n",
            "5  Isi Refill Staples Jok Kulit Motor / Staple Gu...   190679689  787   \n",
            "6  Isi Refill Staples Jok Kulit Motor / Staple Gu...   190679689  787   \n",
            "7  Isi Refill Staples Jok Kulit Motor / Staple Gu...   190679689  787   \n",
            "8  refill staples gun tacker manual isi paku temb...   316217334   82   \n",
            "9  refill staples gun tacker manual isi paku temb...   316217334   82   \n",
            "\n",
            "   shop_id                                                url  \n",
            "0  1740837  https://www.tokopedia.com/shakaonline87/staple...  \n",
            "1  1477109  https://www.tokopedia.com/juraganperkakas/stap...  \n",
            "2  1477109  https://www.tokopedia.com/juraganperkakas/stap...  \n",
            "3   771395  https://www.tokopedia.com/kamarmesin/alat-stap...  \n",
            "4   969999  https://www.tokopedia.com/mitrapersada/isi-ref...  \n",
            "5   969999  https://www.tokopedia.com/mitrapersada/isi-ref...  \n",
            "6   969999  https://www.tokopedia.com/mitrapersada/isi-ref...  \n",
            "7   969999  https://www.tokopedia.com/mitrapersada/isi-ref...  \n",
            "8   231740  https://www.tokopedia.com/rumahbajukita/refill...  \n",
            "9   231740  https://www.tokopedia.com/rumahbajukita/refill...  \n"
          ]
        }
      ],
      "source": [
        "tokopedia_reviews = pd.read_csv(\"product_reviews_dirty.csv\", sep=',', header='infer')\n",
        "tokopedia_reviews.columns = ['id','text','rating','category','product_name', 'product_id', 'sold', 'shop_id', 'url']\n",
        "print(tokopedia_reviews.head(10))"
      ]
    },
    {
      "cell_type": "markdown",
      "source": [
        "Pre Processing"
      ],
      "metadata": {
        "id": "ad591L20qcYt"
      }
    },
    {
      "cell_type": "code",
      "execution_count": null,
      "metadata": {
        "id": "iLWDOtZ1tp0c"
      },
      "outputs": [],
      "source": [
        "class Preprocessing:\n",
        "    def __init__(self):\n",
        "        self.factory = StemmerFactory()\n",
        "        self.stemmer = self.factory.create_stemmer()\n",
        "\n",
        "    def processtext(self, text):\n",
        "        text = text.lower()\n",
        "        text = re.sub(r'\\&\\w*;', '', text)\n",
        "        text = re.sub('@[^\\s]+', '', text)\n",
        "        text = re.sub(r'\\$\\w*', '', text)\n",
        "        text = text.lower()\n",
        "        text = re.sub(r'https?:\\/\\/.*\\/\\w*', '', text)\n",
        "        text = re.sub(r'#\\w*', '', text)\n",
        "        text = re.sub(r'[' + punctuation.replace('@', '') + ']+', ' ', text)\n",
        "        text = re.sub(r'\\b\\w{1,2}\\b', '', text)\n",
        "        text = re.sub(r'\\s\\s+', ' ', text)\n",
        "        text = text.lstrip(' ')\n",
        "        text = ''.join(c for c in text if c <= '\\uFFFF')\n",
        "        return text\n",
        "\n",
        "    def stem(self, text):\n",
        "        text = self.stemmer.stem(text)\n",
        "        return text\n",
        "\n",
        "    def remove_stopwords(self, param):\n",
        "        f = \"id_stopwords.txt\"\n",
        "        with open(f, 'r') as my_stopwords:\n",
        "            stopwords_list = my_stopwords.read()\n",
        "            word_list = param.split()\n",
        "            filtered_words = [word for i, word in enumerate(word_list) if word not in stopwords_list]\n",
        "            result_text = ' '.join(filtered_words)\n",
        "            return result_text"
      ]
    },
    {
      "cell_type": "code",
      "execution_count": null,
      "metadata": {
        "colab": {
          "base_uri": "https://localhost:8080/"
        },
        "id": "6MQIY0DZt009",
        "outputId": "ea74f350-6a06-420a-dd5f-0709622bc825"
      },
      "outputs": [
        {
          "output_type": "stream",
          "name": "stdout",
          "text": [
            "          id                                               text  rating\n",
            "0          1                          barang sesuai pesan cepat       5\n",
            "1          2                           barang bagus harga murah       5\n",
            "2          3                      paket rapi mantap cepat sampe       5\n",
            "3          4                                    puas dgn barang       5\n",
            "4          5                                    responya mantap       5\n",
            "...      ...                                                ...     ...\n",
            "40602  40889                                         tutup ukur       1\n",
            "40603  40890  jual krg peduli brg jelek brg kirim peyot pega...       1\n",
            "40604  40891  layan sigap berhari2 smpe kasi resi valid krn ...       1\n",
            "40605  40892  barang kirim tsk sesuai wrn wrn tdk ready orde...       1\n",
            "40606  40893  jual respon buruk beli jual periksa barang ord...       1\n",
            "\n",
            "[40607 rows x 3 columns]\n"
          ]
        }
      ],
      "source": [
        "# ...\n",
        "pr = Preprocessing()\n",
        "\n",
        "# Memanggil metode pada kolom 'text' dari DataFrame\n",
        "tokopedia_reviews['text'] = tokopedia_reviews['text'].apply(pr.processtext)\n",
        "tokopedia_reviews['text'] = tokopedia_reviews['text'].apply(pr.stem)\n",
        "tokopedia_reviews['text'] = tokopedia_reviews['text'].apply(lambda x: pr.remove_stopwords(x))\n",
        "\n",
        "# Menampilkan beberapa baris awal DataFrame setelah pemrosesan\n",
        "print(tokopedia_reviews.iloc[:, :3])\n"
      ]
    },
    {
      "cell_type": "code",
      "execution_count": null,
      "metadata": {
        "colab": {
          "base_uri": "https://localhost:8080/"
        },
        "id": "4BB-yAOOswG9",
        "outputId": "8765b8b9-105e-41ea-82e4-ba14dc8f5e36"
      },
      "outputs": [
        {
          "output_type": "stream",
          "name": "stdout",
          "text": [
            "                                                text  rating\n",
            "0                          barang sesuai pesan cepat       5\n",
            "1                           barang bagus harga murah       5\n",
            "2                      paket rapi mantap cepat sampe       5\n",
            "3                                    puas dgn barang       5\n",
            "4                                    responya mantap       5\n",
            "5                  seller top kirim cepat barang oke       5\n",
            "6                             kirim cepat seller top       5\n",
            "7  produk sesuai spec web respon seller cepat tha...       5\n",
            "8  respon super cepat kirim cepat barang bagus se...       5\n",
            "9                          barang mantap layan cepat       5\n"
          ]
        }
      ],
      "source": [
        "tokopedia_reviews = tokopedia_reviews[['text', 'rating']]\n",
        "print(tokopedia_reviews.iloc[:10, :])"
      ]
    },
    {
      "cell_type": "markdown",
      "source": [
        "Pelabelan dataset"
      ],
      "metadata": {
        "id": "LUcQRo4GqgG2"
      }
    },
    {
      "cell_type": "code",
      "execution_count": null,
      "metadata": {
        "colab": {
          "base_uri": "https://localhost:8080/"
        },
        "id": "LF6df3gbs671",
        "outputId": "8fe5e322-3f5e-41cf-9249-633036a72690"
      },
      "outputs": [
        {
          "output_type": "stream",
          "name": "stdout",
          "text": [
            "                                                    text  rating  label\n",
            "0                              barang sesuai pesan cepat       5   True\n",
            "1                               barang bagus harga murah       5   True\n",
            "2                          paket rapi mantap cepat sampe       5   True\n",
            "3                                        puas dgn barang       5   True\n",
            "4                                        responya mantap       5   True\n",
            "...                                                  ...     ...    ...\n",
            "40602                                         tutup ukur       1  False\n",
            "40603  jual krg peduli brg jelek brg kirim peyot pega...       1  False\n",
            "40604  layan sigap berhari2 smpe kasi resi valid krn ...       1  False\n",
            "40605  barang kirim tsk sesuai wrn wrn tdk ready orde...       1  False\n",
            "40606  jual respon buruk beli jual periksa barang ord...       1  False\n",
            "\n",
            "[40607 rows x 3 columns]\n"
          ]
        },
        {
          "output_type": "stream",
          "name": "stderr",
          "text": [
            "<ipython-input-8-b5bcc14b1f7f>:1: SettingWithCopyWarning: \n",
            "A value is trying to be set on a copy of a slice from a DataFrame.\n",
            "Try using .loc[row_indexer,col_indexer] = value instead\n",
            "\n",
            "See the caveats in the documentation: https://pandas.pydata.org/pandas-docs/stable/user_guide/indexing.html#returning-a-view-versus-a-copy\n",
            "  tokopedia_reviews.loc[tokopedia_reviews['rating'] >= 4, 'label'] = True\n"
          ]
        }
      ],
      "source": [
        "tokopedia_reviews.loc[tokopedia_reviews['rating'] >= 4, 'label'] = True\n",
        "tokopedia_reviews.loc[tokopedia_reviews['rating'] < 4, 'label'] = False\n",
        "tokopedia_reviews.to_csv('tokopedia_cleaned.csv', header=True, index=False, encoding='utf-8')\n",
        "print(tokopedia_reviews)"
      ]
    },
    {
      "cell_type": "markdown",
      "source": [
        "TfidfVectorizer"
      ],
      "metadata": {
        "id": "EvkubRxIqp8f"
      }
    },
    {
      "cell_type": "code",
      "execution_count": null,
      "metadata": {
        "id": "myrzLNrpv30G"
      },
      "outputs": [],
      "source": [
        "# Misalkan kolom 'text' pada DataFrame berisi teks yang ingin dijadikan data latihan\n",
        "text_data = tokopedia_reviews['text']\n",
        "ratings = tokopedia_reviews['rating']\n",
        "\n",
        "# Inisialisasi TfidfVectorizer dengan konfigurasi ngram_range=(1,1)\n",
        "tf_idf = TfidfVectorizer(ngram_range=(1, 1))\n",
        "\n",
        "# Melatih TfidfVectorizer menggunakan data teks\n",
        "X_tf_idf = tf_idf.fit_transform(text_data)\n",
        "\n",
        "# Dapatkan representasi TF-IDF dari data teks\n",
        "tfidf_matrix = X_tf_idf.toarray()"
      ]
    },
    {
      "cell_type": "markdown",
      "source": [
        "Parameter multinomial"
      ],
      "metadata": {
        "id": "f9SZzTPWqrR2"
      }
    },
    {
      "cell_type": "code",
      "execution_count": null,
      "metadata": {
        "colab": {
          "base_uri": "https://localhost:8080/",
          "height": 576
        },
        "id": "P4t6UEojd2nQ",
        "outputId": "76c09186-203f-4c38-cbe9-71a48360a980"
      },
      "outputs": [
        {
          "output_type": "stream",
          "name": "stdout",
          "text": [
            "[1 1 1 ... 1 1 1]\n",
            "Naive Bayes:\n",
            "Precision: 0.9339599307444967\n",
            "Recall: 0.9978858350951374\n",
            "F1-Score: 0.9648652101699247\n",
            "Accuracy: 0.9322826889928589\n"
          ]
        },
        {
          "output_type": "display_data",
          "data": {
            "text/plain": [
              "<Figure size 640x480 with 1 Axes>"
            ],
            "image/png": "[encoded data removed]"
          },
          "metadata": {}
        }
      ],
      "source": [
        "# Inisialisasi target untuk klasifikasi\n",
        "y_tf_idf = tokopedia_reviews['label']\n",
        "y_tf_idf = y_tf_idf.astype(int)\n",
        "\n",
        "# Membagi data menjadi data latih dan uji\n",
        "X_train, X_test, y_train, y_test = train_test_split(X_tf_idf, y_tf_idf, test_size=0.1, random_state=50)\n",
        "\n",
        "# Melakukan oversampling menggunakan RandomOverSampler\n",
        "ros = RandomOverSampler(random_state=50)\n",
        "X_resampled, y_resampled = ros.fit_resample(X_tf_idf, y_tf_idf)\n",
        "\n",
        "# Inisialisasi dan melatih model Naive Bayes\n",
        "algorithm = MultinomialNB()\n",
        "model = algorithm.fit(X_train, y_train)\n",
        "\n",
        "# Melakukan prediksi menggunakan model\n",
        "model_pred = model.predict(X_test)\n",
        "\n",
        "# Menampilkan hasil prediksi\n",
        "print(model_pred)\n",
        "\n",
        "# ...\n",
        "\n",
        "# Melakukan prediksi menggunakan model\n",
        "model_pred = model.predict(X_test)\n",
        "\n",
        "# Menghitung precision, recall, dan f1-score\n",
        "precision = precision_score(y_test, model_pred)\n",
        "recall = recall_score(y_test, model_pred)\n",
        "f1 = f1_score(y_test, model_pred)\n",
        "accuracy = accuracy_score(y_test, model_pred)\n",
        "\n",
        "# Menampilkan hasil\n",
        "print(\"Naive Bayes:\")\n",
        "print(f\"Precision: {precision}\")\n",
        "print(f\"Recall: {recall}\")\n",
        "print(f\"F1-Score: {f1}\")\n",
        "print(f\"Accuracy: {accuracy}\")\n",
        "\n",
        "# Visualisasi diagram batang\n",
        "metrics_names = ['Precision', 'Recall', 'F1-Score', 'Accuracy']\n",
        "metrics_values = [precision, recall, f1, accuracy]\n",
        "\n",
        "plt.bar(metrics_names, metrics_values, color=['blue', 'green', 'red', 'purple'])\n",
        "plt.title('Naive Bayes Metrics')\n",
        "plt.xlabel('Metrics')\n",
        "plt.ylabel('Score')\n",
        "plt.ylim(0, 1)  # Assuming scores are between 0 and 1\n",
        "plt.show()\n"
      ]
    },
    {
      "cell_type": "code",
      "source": [
        "# Inisialisasi target untuk klasifikasi\n",
        "y_tf_idf = tokopedia_reviews['label']\n",
        "y_tf_idf = y_tf_idf.astype(int)\n",
        "\n",
        "# Membagi data menjadi data latih dan uji\n",
        "X_train, X_test, y_train, y_test = train_test_split(X_tf_idf, y_tf_idf, test_size=0.2, random_state=50)\n",
        "\n",
        "# Melakukan oversampling menggunakan RandomOverSampler\n",
        "ros = RandomOverSampler(random_state=50)\n",
        "X_resampled, y_resampled = ros.fit_resample(X_tf_idf, y_tf_idf)\n",
        "\n",
        "# Inisialisasi dan melatih model Naive Bayes\n",
        "algorithm = MultinomialNB()\n",
        "model = algorithm.fit(X_train, y_train)\n",
        "\n",
        "# Melakukan prediksi menggunakan model\n",
        "model_pred = model.predict(X_test)\n",
        "\n",
        "# Menampilkan hasil prediksi\n",
        "print(model_pred)\n",
        "\n",
        "# ...\n",
        "\n",
        "# Melakukan prediksi menggunakan model\n",
        "model_pred = model.predict(X_test)\n",
        "\n",
        "# Menghitung precision, recall, dan f1-score\n",
        "precision = precision_score(y_test, model_pred)\n",
        "recall = recall_score(y_test, model_pred)\n",
        "f1 = f1_score(y_test, model_pred)\n",
        "accuracy = accuracy_score(y_test, model_pred)\n",
        "\n",
        "# Menampilkan hasil\n",
        "print(\"Naive Bayes:\")\n",
        "print(f\"Precision: {precision}\")\n",
        "print(f\"Recall: {recall}\")\n",
        "print(f\"F1-Score: {f1}\")\n",
        "print(f\"Accuracy: {accuracy}\")\n"
      ],
      "metadata": {
        "colab": {
          "base_uri": "https://localhost:8080/"
        },
        "id": "IhKjvE-fOXrK",
        "outputId": "102a2aac-f26a-4818-a44f-2ff86ffc7044"
      },
      "execution_count": null,
      "outputs": [
        {
          "output_type": "stream",
          "name": "stdout",
          "text": [
            "[1 1 1 ... 1 1 1]\n",
            "Naive Bayes:\n",
            "Precision: 0.9343390626932113\n",
            "Recall: 0.9978869519281564\n",
            "F1-Score: 0.9650680120058751\n",
            "Accuracy: 0.932652056143807\n"
          ]
        }
      ]
    },
    {
      "cell_type": "code",
      "source": [
        "# Inisialisasi target untuk klasifikasi\n",
        "y_tf_idf = tokopedia_reviews['label']\n",
        "y_tf_idf = y_tf_idf.astype(int)\n",
        "\n",
        "# Membagi data menjadi data latih dan uji\n",
        "X_train, X_test, y_train, y_test = train_test_split(X_tf_idf, y_tf_idf, test_size=0.3, random_state=50)\n",
        "\n",
        "# Melakukan oversampling menggunakan RandomOverSampler\n",
        "ros = RandomOverSampler(random_state=50)\n",
        "X_resampled, y_resampled = ros.fit_resample(X_tf_idf, y_tf_idf)\n",
        "\n",
        "# Inisialisasi dan melatih model Naive Bayes\n",
        "algorithm = MultinomialNB()\n",
        "model = algorithm.fit(X_train, y_train)\n",
        "\n",
        "# Melakukan prediksi menggunakan model\n",
        "model_pred = model.predict(X_test)\n",
        "\n",
        "# Menampilkan hasil prediksi\n",
        "print(model_pred)\n",
        "\n",
        "# ...\n",
        "\n",
        "# Melakukan prediksi menggunakan model\n",
        "model_pred = model.predict(X_test)\n",
        "\n",
        "# Menghitung precision, recall, dan f1-score\n",
        "precision = precision_score(y_test, model_pred)\n",
        "recall = recall_score(y_test, model_pred)\n",
        "f1 = f1_score(y_test, model_pred)\n",
        "accuracy = accuracy_score(y_test, model_pred)\n",
        "\n",
        "# Menampilkan hasil\n",
        "print(\"Naive Bayes:\")\n",
        "print(f\"Precision: {precision}\")\n",
        "print(f\"Recall: {recall}\")\n",
        "print(f\"F1-Score: {f1}\")\n",
        "print(f\"Accuracy: {accuracy}\")\n"
      ],
      "metadata": {
        "colab": {
          "base_uri": "https://localhost:8080/"
        },
        "id": "sOc3MewLOYPb",
        "outputId": "694f8fed-3ce8-4f1f-b8c2-a527a40b3d44"
      },
      "execution_count": null,
      "outputs": [
        {
          "output_type": "stream",
          "name": "stdout",
          "text": [
            "[1 1 1 ... 1 1 1]\n",
            "Naive Bayes:\n",
            "Precision: 0.9345301819978589\n",
            "Recall: 0.9979773107026647\n",
            "F1-Score: 0.9652122140001701\n",
            "Accuracy: 0.9328572601165559\n"
          ]
        }
      ]
    },
    {
      "cell_type": "code",
      "source": [
        "# Inisialisasi target untuk klasifikasi\n",
        "y_tf_idf = tokopedia_reviews['label']\n",
        "y_tf_idf = y_tf_idf.astype(int)\n",
        "\n",
        "# Membagi data menjadi data latih dan uji\n",
        "X_train, X_test, y_train, y_test = train_test_split(X_tf_idf, y_tf_idf, test_size=0.4, random_state=50)\n",
        "\n",
        "# Melakukan oversampling menggunakan RandomOverSampler\n",
        "ros = RandomOverSampler(random_state=50)\n",
        "X_resampled, y_resampled = ros.fit_resample(X_tf_idf, y_tf_idf)\n",
        "\n",
        "# Inisialisasi dan melatih model Naive Bayes\n",
        "algorithm = MultinomialNB()\n",
        "model = algorithm.fit(X_train, y_train)\n",
        "\n",
        "# Melakukan prediksi menggunakan model\n",
        "model_pred = model.predict(X_test)\n",
        "\n",
        "# Menampilkan hasil prediksi\n",
        "print(model_pred)\n",
        "\n",
        "# ...\n",
        "\n",
        "# Melakukan prediksi menggunakan model\n",
        "model_pred = model.predict(X_test)\n",
        "\n",
        "# Menghitung precision, recall, dan f1-score\n",
        "precision = precision_score(y_test, model_pred)\n",
        "recall = recall_score(y_test, model_pred)\n",
        "f1 = f1_score(y_test, model_pred)\n",
        "accuracy = accuracy_score(y_test, model_pred)\n",
        "\n",
        "# Menampilkan hasil\n",
        "print(\"Naive Bayes:\")\n",
        "print(f\"Precision: {precision}\")\n",
        "print(f\"Recall: {recall}\")\n",
        "print(f\"F1-Score: {f1}\")\n",
        "print(f\"Accuracy: {accuracy}\")\n"
      ],
      "metadata": {
        "colab": {
          "base_uri": "https://localhost:8080/"
        },
        "id": "ShEqAFX7Ob0i",
        "outputId": "6531c365-5fe8-4f69-c38d-3b4d28c5abf1"
      },
      "execution_count": null,
      "outputs": [
        {
          "output_type": "stream",
          "name": "stdout",
          "text": [
            "[1 1 1 ... 1 1 1]\n",
            "Naive Bayes:\n",
            "Precision: 0.9338103756708408\n",
            "Recall: 0.9989441731556025\n",
            "F1-Score: 0.9652797704447632\n",
            "Accuracy: 0.9329557347780583\n"
          ]
        }
      ]
    },
    {
      "cell_type": "code",
      "source": [
        "# Inisialisasi target untuk klasifikasi\n",
        "y_tf_idf = tokopedia_reviews['label']\n",
        "y_tf_idf = y_tf_idf.astype(int)\n",
        "\n",
        "# Membagi data menjadi data latih dan uji\n",
        "X_train, X_test, y_train, y_test = train_test_split(X_tf_idf, y_tf_idf, test_size=0.5, random_state=50)\n",
        "\n",
        "# Melakukan oversampling menggunakan RandomOverSampler\n",
        "ros = RandomOverSampler(random_state=50)\n",
        "X_resampled, y_resampled = ros.fit_resample(X_tf_idf, y_tf_idf)\n",
        "\n",
        "# Inisialisasi dan melatih model Naive Bayes\n",
        "algorithm = MultinomialNB()\n",
        "model = algorithm.fit(X_train, y_train)\n",
        "\n",
        "# Melakukan prediksi menggunakan model\n",
        "model_pred = model.predict(X_test)\n",
        "\n",
        "# Menampilkan hasil prediksi\n",
        "print(model_pred)\n",
        "\n",
        "# ...\n",
        "\n",
        "# Melakukan prediksi menggunakan model\n",
        "model_pred = model.predict(X_test)\n",
        "\n",
        "# Menghitung precision, recall, dan f1-score\n",
        "precision = precision_score(y_test, model_pred)\n",
        "recall = recall_score(y_test, model_pred)\n",
        "f1 = f1_score(y_test, model_pred)\n",
        "accuracy = accuracy_score(y_test, model_pred)\n",
        "\n",
        "# Menampilkan hasil\n",
        "print(\"Naive Bayes:\")\n",
        "print(f\"Precision: {precision}\")\n",
        "print(f\"Recall: {recall}\")\n",
        "print(f\"F1-Score: {f1}\")\n",
        "print(f\"Accuracy: {accuracy}\")\n"
      ],
      "metadata": {
        "colab": {
          "base_uri": "https://localhost:8080/"
        },
        "id": "8gW7dxrdOdL6",
        "outputId": "77321363-c8c0-4da7-f9e4-a40202b14082"
      },
      "execution_count": null,
      "outputs": [
        {
          "output_type": "stream",
          "name": "stdout",
          "text": [
            "[1 1 1 ... 1 1 1]\n",
            "Naive Bayes:\n",
            "Precision: 0.9333530513654738\n",
            "Recall: 0.9995776581142435\n",
            "F1-Score: 0.9653308861017641\n",
            "Accuracy: 0.9330181245074862\n"
          ]
        }
      ]
    },
    {
      "cell_type": "markdown",
      "source": [
        "Parameter Gaussian"
      ],
      "metadata": {
        "id": "gcscCuySq22H"
      }
    },
    {
      "cell_type": "code",
      "execution_count": null,
      "metadata": {
        "colab": {
          "base_uri": "https://localhost:8080/"
        },
        "id": "9rgMI91CtGN2",
        "outputId": "0a3d9214-f646-4925-a4bc-f091063341bf"
      },
      "outputs": [
        {
          "output_type": "stream",
          "name": "stdout",
          "text": [
            "Gaussian Naive Bayes:\n",
            "Precision: 0.9306578009973878\n",
            "Recall: 0.2586115876996173\n",
            "F1-Score: 0.4047508391427834\n",
            "Accuracy: 0.29034045434956596\n"
          ]
        }
      ],
      "source": [
        "# Inisialisasi target untuk klasifikasi\n",
        "y_tf_idf = tokopedia_reviews['label']\n",
        "y_tf_idf = y_tf_idf.astype(int)\n",
        "\n",
        "# Membagi data menjadi data latih dan uji\n",
        "X_train, X_test, y_train, y_test = train_test_split(X_tf_idf, y_tf_idf, test_size=0.4, random_state=50)\n",
        "\n",
        "# Melakukan oversampling hanya pada data latih\n",
        "ros = RandomOverSampler(random_state=50)\n",
        "X_train_resampled, y_train_resampled = ros.fit_resample(X_train, y_train)\n",
        "\n",
        "# Convert sparse matrices to dense arrays\n",
        "X_train_resampled_dense = X_train_resampled.toarray()\n",
        "X_test_dense = X_test.toarray()\n",
        "\n",
        "# Inisialisasi dan melatih model Gaussian Naive Bayes\n",
        "gaussian_model = GaussianNB()\n",
        "gaussian_model.fit(X_train_resampled_dense, y_train_resampled)\n",
        "\n",
        "# Melakukan prediksi menggunakan model Gaussian Naive Bayes\n",
        "gaussian_pred = gaussian_model.predict(X_test_dense)\n",
        "\n",
        "# Menghitung precision, recall, dan f1-score untuk Gaussian Naive Bayes\n",
        "precision_gaussian = precision_score(y_test, gaussian_pred)\n",
        "recall_gaussian = recall_score(y_test, gaussian_pred)\n",
        "f1_gaussian = f1_score(y_test, gaussian_pred)\n",
        "accuracy_gaussian = accuracy_score(y_test, gaussian_pred)\n",
        "\n",
        "# Menampilkan hasil untuk Gaussian Naive Bayes\n",
        "print(\"Gaussian Naive Bayes:\")\n",
        "print(f\"Precision: {precision_gaussian}\")\n",
        "print(f\"Recall: {recall_gaussian}\")\n",
        "print(f\"F1-Score: {f1_gaussian}\")\n",
        "print(f\"Accuracy: {accuracy_gaussian}\")"
      ]
    },
    {
      "cell_type": "markdown",
      "source": [
        "Visualisasi"
      ],
      "metadata": {
        "id": "heyGaVAPrDMW"
      }
    },
    {
      "cell_type": "code",
      "execution_count": null,
      "metadata": {
        "id": "nAXtTxW5RPrm",
        "colab": {
          "base_uri": "https://localhost:8080/",
          "height": 599
        },
        "outputId": "6b8268fe-a058-420d-a4bb-1286ecc4cb28"
      },
      "outputs": [
        {
          "output_type": "display_data",
          "data": {
            "text/plain": [
              "<Figure size 800x600 with 1 Axes>"
            ],
            "image/png": "[encoded data removed]"
          },
          "metadata": {}
        }
      ],
      "source": [
        "tokopedia_reviews = pd.read_csv(\"tokopedia_cleaned.csv\")\n",
        "# Combine ratings 1, 2, and 3\n",
        "tokopedia_reviews['combined_rating'] = tokopedia_reviews['rating'].apply(lambda x: 'positif' if x >= 4 else ('netral' if x == 3 else 'negatif'))\n",
        "\n",
        "\n",
        "# Count the occurrences of each label in the combined ratings\n",
        "combined_label_counts = tokopedia_reviews['combined_rating'].value_counts()\n",
        "\n",
        "# Plot the bar chart\n",
        "plt.figure(figsize=(8, 6))\n",
        "combined_label_counts.plot(kind='bar', color=['skyblue', 'lightcoral'])\n",
        "plt.title('visualisasi')\n",
        "plt.xlabel('Combined Ratings')\n",
        "plt.ylabel('Count')\n",
        "\n",
        "# Add percentage annotations\n",
        "total = len(tokopedia_reviews)\n",
        "for i, count in enumerate(combined_label_counts):\n",
        "    percentage = (count / total) * 100\n",
        "    plt.text(i, count + 0.1, f'{percentage:.2f}%', ha='center')\n",
        "\n",
        "plt.show()\n"
      ]
    }
  ],
  "metadata": {
    "colab": {
      "provenance": []
    },
    "kernelspec": {
      "display_name": "Python 3",
      "name": "python3"
    },
    "language_info": {
      "name": "python"
    }
  },
  "nbformat": 4,
  "nbformat_minor": 0
}