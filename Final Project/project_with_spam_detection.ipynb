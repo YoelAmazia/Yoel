{
  "nbformat": 4,
  "nbformat_minor": 0,
  "metadata": {
    "colab": {
      "provenance": []
    },
    "kernelspec": {
      "name": "python3",
      "display_name": "Python 3"
    },
    "language_info": {
      "name": "python"
    }
  },
  "cells": [
    {
      "cell_type": "code",
      "execution_count": null,
      "metadata": {
        "colab": {
          "base_uri": "https://localhost:8080/"
        },
        "id": "_yaQ1M7xnDDR",
        "outputId": "c016b75c-1b4a-4404-80a8-1b5568c53402"
      },
      "outputs": [
        {
          "output_type": "stream",
          "name": "stdout",
          "text": [
            "Collecting sastrawi\n",
            "  Downloading Sastrawi-1.0.1-py2.py3-none-any.whl (209 kB)\n",
            "\u001b[?25l     \u001b[90m━━━━━━━━━━━━━━━━━━━━━━━━━━━━━━━━━━━━━━━━\u001b[0m \u001b[32m0.0/209.7 kB\u001b[0m \u001b[31m?\u001b[0m eta \u001b[36m-:--:--\u001b[0m\r\u001b[2K     \u001b[91m━━━━━━━━━━━━━━━━━\u001b[0m\u001b[91m╸\u001b[0m\u001b[90m━━━━━━━━━━━━━━━━━━━━━━\u001b[0m \u001b[32m92.2/209.7 kB\u001b[0m \u001b[31m2.7 MB/s\u001b[0m eta \u001b[36m0:00:01\u001b[0m\r\u001b[2K     \u001b[90m━━━━━━━━━━━━━━━━━━━━━━━━━━━━━━━━━━━━━━━━\u001b[0m \u001b[32m209.7/209.7 kB\u001b[0m \u001b[31m4.1 MB/s\u001b[0m eta \u001b[36m0:00:00\u001b[0m\n",
            "\u001b[?25hInstalling collected packages: sastrawi\n",
            "Successfully installed sastrawi-1.0.1\n"
          ]
        }
      ],
      "source": [
        "pip install sastrawi"
      ]
    },
    {
      "cell_type": "code",
      "source": [
        "pip install seaborn matplotlib"
      ],
      "metadata": {
        "colab": {
          "base_uri": "https://localhost:8080/"
        },
        "id": "r5URTHStVM51",
        "outputId": "8909ba45-d208-4dbf-a59a-34c63c0f8311"
      },
      "execution_count": null,
      "outputs": [
        {
          "output_type": "stream",
          "name": "stdout",
          "text": [
            "Requirement already satisfied: seaborn in /usr/local/lib/python3.10/dist-packages (0.12.2)\n",
            "Requirement already satisfied: matplotlib in /usr/local/lib/python3.10/dist-packages (3.7.1)\n",
            "Requirement already satisfied: numpy!=1.24.0,>=1.17 in /usr/local/lib/python3.10/dist-packages (from seaborn) (1.23.5)\n",
            "Requirement already satisfied: pandas>=0.25 in /usr/local/lib/python3.10/dist-packages (from seaborn) (1.5.3)\n",
            "Requirement already satisfied: contourpy>=1.0.1 in /usr/local/lib/python3.10/dist-packages (from matplotlib) (1.2.0)\n",
            "Requirement already satisfied: cycler>=0.10 in /usr/local/lib/python3.10/dist-packages (from matplotlib) (0.12.1)\n",
            "Requirement already satisfied: fonttools>=4.22.0 in /usr/local/lib/python3.10/dist-packages (from matplotlib) (4.47.0)\n",
            "Requirement already satisfied: kiwisolver>=1.0.1 in /usr/local/lib/python3.10/dist-packages (from matplotlib) (1.4.5)\n",
            "Requirement already satisfied: packaging>=20.0 in /usr/local/lib/python3.10/dist-packages (from matplotlib) (23.2)\n",
            "Requirement already satisfied: pillow>=6.2.0 in /usr/local/lib/python3.10/dist-packages (from matplotlib) (9.4.0)\n",
            "Requirement already satisfied: pyparsing>=2.3.1 in /usr/local/lib/python3.10/dist-packages (from matplotlib) (3.1.1)\n",
            "Requirement already satisfied: python-dateutil>=2.7 in /usr/local/lib/python3.10/dist-packages (from matplotlib) (2.8.2)\n",
            "Requirement already satisfied: pytz>=2020.1 in /usr/local/lib/python3.10/dist-packages (from pandas>=0.25->seaborn) (2023.3.post1)\n",
            "Requirement already satisfied: six>=1.5 in /usr/local/lib/python3.10/dist-packages (from python-dateutil>=2.7->matplotlib) (1.16.0)\n"
          ]
        }
      ]
    },
    {
      "cell_type": "code",
      "source": [
        "import pandas as pd\n",
        "from sklearn.feature_extraction.text import TfidfTransformer\n",
        "from sklearn.feature_extraction.text import TfidfVectorizer\n",
        "from sklearn.naive_bayes import MultinomialNB\n",
        "from sklearn.model_selection import train_test_split\n",
        "from Sastrawi.Stemmer.StemmerFactory import StemmerFactory\n",
        "from string import punctuation\n",
        "import re\n",
        "import seaborn as sns\n",
        "import matplotlib.pyplot as plt\n",
        "from sklearn.metrics import confusion_matrix, classification_report\n",
        "from imblearn.over_sampling import RandomOverSampler\n",
        "from sklearn.metrics import precision_score, recall_score, f1_score, accuracy_score\n",
        "from sklearn.naive_bayes import GaussianNB, MultinomialNB"
      ],
      "metadata": {
        "id": "WE8zgtVSnkgl"
      },
      "execution_count": null,
      "outputs": []
    },
    {
      "cell_type": "code",
      "source": [
        "\n",
        "tokopedia_reviews = pd.read_csv(\"product_reviews_dirty.csv\", sep=',', header='infer')\n",
        "tokopedia_reviews.columns = ['id','text','rating','category','product_name', 'product_id', 'sold', 'shop_id', 'url']\n",
        "print(tokopedia_reviews.iloc[:10, :3])"
      ],
      "metadata": {
        "colab": {
          "base_uri": "https://localhost:8080/"
        },
        "id": "1MWKbqhWnly2",
        "outputId": "dda94e7f-e9c6-476b-976b-f953ec1bb2d5"
      },
      "execution_count": null,
      "outputs": [
        {
          "output_type": "stream",
          "name": "stdout",
          "text": [
            "   id                                               text  rating\n",
            "0   1             Barang sesuai pesanan dan cepat sampai       5\n",
            "1   2                           Barang bagus harga murah       5\n",
            "2   3    Paket rapi...mantap....cepat....sampe ke tujuan       5\n",
            "3   4                         ya saya puas dgn barangnya       5\n",
            "4   5                       Responya luar biasa b mantap       5\n",
            "5   6            seller top, pengiriman cepat barang oke       5\n",
            "6   7                        pengiriman cepat seller top       5\n",
            "7   8  Produk sesuai dengan spec di web dan respon se...       5\n",
            "8  10  Respon super cepat, pengiriman cepat, Barang b...       5\n",
            "9  11                     Barang mantap, pelayanan cepat       5\n"
          ]
        }
      ]
    },
    {
      "cell_type": "code",
      "source": [
        "class Preprocessing :\n",
        "    def __init__(self):\n",
        "\n",
        "        self.factory = StemmerFactory()\n",
        "        self.stemmer = self.factory.create_stemmer()\n",
        "        pass\n",
        "\n",
        "    def processtext(self, text):\n",
        "        text = text.lower()\n",
        "        text = re.sub(r'\\&\\w*;', '', text)\n",
        "        text = re.sub('@[^\\s]+','',text)\n",
        "        text = re.sub(r'\\$\\w*', '', text)\n",
        "        text = text.lower()\n",
        "        text = re.sub(r'https?:\\/\\/.*\\/\\w*', '', text)\n",
        "        text = re.sub(r'#\\w*', '', text)\n",
        "        text = re.sub(r'[' + punctuation.replace('@', '') + ']+', ' ', text)\n",
        "        text = re.sub(r'\\b\\w{1,2}\\b', '', text)\n",
        "        text = re.sub(r'\\s\\s+', ' ', text)\n",
        "        text = text.lstrip(' ')\n",
        "        text = ''.join(c for c in text if c <= '\\uFFFF')\n",
        "        return text\n",
        "\n",
        "    def stem(self, text):\n",
        "        text = self.stemmer.stem(text)\n",
        "        return text\n",
        "\n",
        "    def remove_stopwords(self, param):\n",
        "        f = \"id_stopwords.txt\"\n",
        "        with open(f, 'r') as my_stopwords:\n",
        "            stopwords_list = my_stopwords.read()\n",
        "            list = param.split()\n",
        "            index = []\n",
        "            i = 0\n",
        "            d = \"\"\n",
        "            while i < len(list):\n",
        "                if list[i] not in stopwords_list:\n",
        "                    index.append(i)\n",
        "                i += 1\n",
        "            for k in index:\n",
        "                d += list[k]+\" \"\n",
        "            #s = ' '.join(list)\n",
        "            return d.strip()\n"
      ],
      "metadata": {
        "id": "cjXcG84TnnF9"
      },
      "execution_count": null,
      "outputs": []
    },
    {
      "cell_type": "code",
      "source": [
        "pr = Preprocessing()\n",
        "tokopedia_reviews['text'] = tokopedia_reviews['text'].apply(pr.processtext)\n",
        "tokopedia_reviews['text'] = tokopedia_reviews['text'].apply(pr.stem)\n",
        "tokopedia_reviews['text'] = tokopedia_reviews['text'].apply(pr.remove_stopwords)\n",
        "print(tokopedia_reviews.iloc[:, :3])"
      ],
      "metadata": {
        "colab": {
          "base_uri": "https://localhost:8080/"
        },
        "id": "fGgHcr4_no0U",
        "outputId": "c0c729ac-53b3-484d-f679-03e841a4e339"
      },
      "execution_count": null,
      "outputs": [
        {
          "output_type": "stream",
          "name": "stdout",
          "text": [
            "          id                                               text  rating\n",
            "0          1                          barang sesuai pesan cepat       5\n",
            "1          2                           barang bagus harga murah       5\n",
            "2          3                      paket rapi mantap cepat sampe       5\n",
            "3          4                                    puas dgn barang       5\n",
            "4          5                                    responya mantap       5\n",
            "...      ...                                                ...     ...\n",
            "40602  40889                                         tutup ukur       1\n",
            "40603  40890  jual krg peduli brg jelek brg kirim peyot pega...       1\n",
            "40604  40891  layan sigap berhari2 smpe kasi resi valid krn ...       1\n",
            "40605  40892  barang kirim tsk sesuai wrn wrn tdk ready orde...       1\n",
            "40606  40893  jual respon buruk beli jual periksa barang ord...       1\n",
            "\n",
            "[40607 rows x 3 columns]\n"
          ]
        }
      ]
    },
    {
      "cell_type": "code",
      "source": [
        "tokopedia_reviews = tokopedia_reviews[['text', 'rating']]\n",
        "print(tokopedia_reviews.iloc[:10, :])"
      ],
      "metadata": {
        "colab": {
          "base_uri": "https://localhost:8080/"
        },
        "id": "wraCeShPnqKj",
        "outputId": "52b9d79e-7b52-4347-9e89-278ae307f0d8"
      },
      "execution_count": null,
      "outputs": [
        {
          "output_type": "stream",
          "name": "stdout",
          "text": [
            "                                                text  rating\n",
            "0                          barang sesuai pesan cepat       5\n",
            "1                           barang bagus harga murah       5\n",
            "2                      paket rapi mantap cepat sampe       5\n",
            "3                                    puas dgn barang       5\n",
            "4                                    responya mantap       5\n",
            "5                  seller top kirim cepat barang oke       5\n",
            "6                             kirim cepat seller top       5\n",
            "7  produk sesuai spec web respon seller cepat tha...       5\n",
            "8  respon super cepat kirim cepat barang bagus se...       5\n",
            "9                          barang mantap layan cepat       5\n"
          ]
        }
      ]
    },
    {
      "cell_type": "code",
      "source": [
        "tokopedia_reviews.loc[tokopedia_reviews['rating'] >= 4, 'label'] = True\n",
        "tokopedia_reviews.loc[tokopedia_reviews['rating'] < 4, 'label'] = False\n",
        "tokopedia_reviews.to_csv('tokopedia_cleaned.csv', header=True, index=False, encoding='utf-8')\n",
        "print(tokopedia_reviews)"
      ],
      "metadata": {
        "colab": {
          "base_uri": "https://localhost:8080/"
        },
        "id": "OZcG0khknsvD",
        "outputId": "3c19ffe6-f9ea-4a7e-fdf5-99d35e4ecb12"
      },
      "execution_count": null,
      "outputs": [
        {
          "output_type": "stream",
          "name": "stderr",
          "text": [
            "<ipython-input-8-b5bcc14b1f7f>:1: SettingWithCopyWarning: \n",
            "A value is trying to be set on a copy of a slice from a DataFrame.\n",
            "Try using .loc[row_indexer,col_indexer] = value instead\n",
            "\n",
            "See the caveats in the documentation: https://pandas.pydata.org/pandas-docs/stable/user_guide/indexing.html#returning-a-view-versus-a-copy\n",
            "  tokopedia_reviews.loc[tokopedia_reviews['rating'] >= 4, 'label'] = True\n"
          ]
        },
        {
          "output_type": "stream",
          "name": "stdout",
          "text": [
            "                                                    text  rating  label\n",
            "0                              barang sesuai pesan cepat       5   True\n",
            "1                               barang bagus harga murah       5   True\n",
            "2                          paket rapi mantap cepat sampe       5   True\n",
            "3                                        puas dgn barang       5   True\n",
            "4                                        responya mantap       5   True\n",
            "...                                                  ...     ...    ...\n",
            "40602                                         tutup ukur       1  False\n",
            "40603  jual krg peduli brg jelek brg kirim peyot pega...       1  False\n",
            "40604  layan sigap berhari2 smpe kasi resi valid krn ...       1  False\n",
            "40605  barang kirim tsk sesuai wrn wrn tdk ready orde...       1  False\n",
            "40606  jual respon buruk beli jual periksa barang ord...       1  False\n",
            "\n",
            "[40607 rows x 3 columns]\n"
          ]
        }
      ]
    },
    {
      "cell_type": "code",
      "source": [
        "# Load the data\n",
        "data = pd.read_csv(\"tokopedia_cleaned.csv\", sep=',', header='infer')\n",
        "\n",
        "# Create a DataFrame\n",
        "df = pd.DataFrame(data)\n",
        "\n",
        "# Create a copy of the DataFrame\n",
        "df_copy = df.copy()\n",
        "\n",
        "# Drop duplicates from the DataFrame\n",
        "df = df.drop_duplicates()\n",
        "\n",
        "# Print the DataFrame after dropping duplicates\n",
        "print(\"DataFrame setelah menghapus data duplikat:\")\n",
        "print(df)\n",
        "\n",
        "# Save the DataFrame after dropping duplicates as a CSV file\n",
        "df.to_csv('tokopedia_dropduplicate.csv', header=True, index=False, encoding='utf-8')\n",
        "\n",
        "# Print the differences with the original DataFrame\n",
        "print(\"Perbedaan dengan DataFrame asli:\")\n",
        "print(df_copy[~df_copy.isin(df).all(1)])"
      ],
      "metadata": {
        "colab": {
          "base_uri": "https://localhost:8080/"
        },
        "id": "BDqymSGU1PKT",
        "outputId": "c9d810aa-df50-466d-f8dd-436da2fabfdb"
      },
      "execution_count": null,
      "outputs": [
        {
          "output_type": "stream",
          "name": "stdout",
          "text": [
            "DataFrame setelah menghapus data duplikat:\n",
            "                                                    text  rating  label\n",
            "0                              barang sesuai pesan cepat       5   True\n",
            "1                               barang bagus harga murah       5   True\n",
            "2                          paket rapi mantap cepat sampe       5   True\n",
            "3                                        puas dgn barang       5   True\n",
            "4                                        responya mantap       5   True\n",
            "...                                                  ...     ...    ...\n",
            "40602                                         tutup ukur       1  False\n",
            "40603  jual krg peduli brg jelek brg kirim peyot pega...       1  False\n",
            "40604  layan sigap berhari2 smpe kasi resi valid krn ...       1  False\n",
            "40605  barang kirim tsk sesuai wrn wrn tdk ready orde...       1  False\n",
            "40606  jual respon buruk beli jual periksa barang ord...       1  False\n",
            "\n",
            "[32322 rows x 3 columns]\n",
            "Perbedaan dengan DataFrame asli:\n",
            "                                                    text  rating  label\n",
            "36                               sesuai deskripsi barang       5   True\n",
            "76                                    terimakasih barang       5   True\n",
            "100                                                  NaN       4   True\n",
            "122                                                  NaN       5   True\n",
            "151                                                  NaN       5   True\n",
            "...                                                  ...     ...    ...\n",
            "40568  sesuai gambar kirim toko rame banget overall suka       5   True\n",
            "40579                                 barang bagus layan       5   True\n",
            "40580                                                NaN       4   True\n",
            "40588                          barang terima terimakasih       5   True\n",
            "40593                                barang terima kasih       4   True\n",
            "\n",
            "[8290 rows x 3 columns]\n"
          ]
        }
      ]
    },
    {
      "cell_type": "code",
      "source": [
        "df['text'] = df['text'].fillna('')\n",
        "# Misalkan kolom 'text' pada DataFrame berisi teks yang ingin dijadikan data latihan\n",
        "text_data = df['text']\n",
        "ratings = tokopedia_reviews['rating']\n",
        "\n",
        "# Inisialisasi TfidfVectorizer dengan konfigurasi ngram_range=(1,1)\n",
        "tf_idf = TfidfVectorizer(ngram_range=(1, 1))\n",
        "\n",
        "# Melatih TfidfVectorizer menggunakan data teks\n",
        "tf_idf.fit(text_data)\n",
        "\n",
        "# Dapatkan representasi TF-IDF dari data teks (sparse matrix)\n",
        "X_tf_idf = tf_idf.transform(text_data)\n"
      ],
      "metadata": {
        "id": "NH3LeP1GBa71"
      },
      "execution_count": null,
      "outputs": []
    },
    {
      "cell_type": "markdown",
      "source": [
        "Parameter Gaussian"
      ],
      "metadata": {
        "id": "rw5OjYPnLFrU"
      }
    },
    {
      "cell_type": "code",
      "source": [
        "tokopedia_reviews = pd.read_csv(\"tokopedia_dropduplicate.csv\")\n",
        "# Inisialisasi target untuk klasifikasi\n",
        "y_tf_idf = tokopedia_reviews['label']\n",
        "y_tf_idf = y_tf_idf.astype(int)\n",
        "\n",
        "# Membagi data menjadi data latih dan uji\n",
        "X_train, X_test, y_train, y_test = train_test_split(X_tf_idf, y_tf_idf, test_size=0.4, random_state=50)\n",
        "\n",
        "# Melakukan oversampling hanya pada data latih\n",
        "ros = RandomOverSampler(random_state=50)\n",
        "X_train_resampled, y_train_resampled = ros.fit_resample(X_train, y_train)\n",
        "\n",
        "# Convert sparse matrices to dense arrays\n",
        "X_train_resampled_dense = X_train_resampled.toarray()\n",
        "X_test_dense = X_test.toarray()\n",
        "\n",
        "# Inisialisasi dan melatih model Gaussian Naive Bayes\n",
        "gaussian_model = GaussianNB()\n",
        "gaussian_model.fit(X_train_resampled_dense, y_train_resampled)\n",
        "\n",
        "# Melakukan prediksi menggunakan model Gaussian Naive Bayes\n",
        "gaussian_pred = gaussian_model.predict(X_test_dense)\n",
        "\n",
        "# Menghitung precision, recall, dan f1-score untuk Gaussian Naive Bayes\n",
        "precision_gaussian = precision_score(y_test, gaussian_pred)\n",
        "recall_gaussian = recall_score(y_test, gaussian_pred)\n",
        "f1_gaussian = f1_score(y_test, gaussian_pred)\n",
        "accuracy_gaussian = accuracy_score(y_test, gaussian_pred)\n",
        "\n",
        "# Menampilkan hasil untuk Gaussian Naive Bayes\n",
        "print(\"Gaussian Naive Bayes:\")\n",
        "print(f\"Precision: {precision_gaussian}\")\n",
        "print(f\"Recall: {recall_gaussian}\")\n",
        "print(f\"F1-Score: {f1_gaussian}\")\n",
        "print(f\"Accuracy: {accuracy_gaussian}\")"
      ],
      "metadata": {
        "id": "mRuMl9orLEkR",
        "colab": {
          "base_uri": "https://localhost:8080/"
        },
        "outputId": "ee49f99c-5200-46bf-87e6-fc479174cab5"
      },
      "execution_count": null,
      "outputs": [
        {
          "output_type": "stream",
          "name": "stdout",
          "text": [
            "Gaussian Naive Bayes:\n",
            "Precision: 0.9274962368289011\n",
            "Recall: 0.3098650574134607\n",
            "F1-Score: 0.4645347741408556\n",
            "Accuracy: 0.34078428339392064\n"
          ]
        }
      ]
    },
    {
      "cell_type": "markdown",
      "source": [
        "Parameter Multinomial"
      ],
      "metadata": {
        "id": "QF0UDdocLQOL"
      }
    },
    {
      "cell_type": "code",
      "source": [
        "tokopedia_reviews = pd.read_csv(\"tokopedia_dropduplicate.csv\")\n",
        "\n",
        "# Inisialisasi target untuk klasifikasi\n",
        "y_tf_idf = tokopedia_reviews['label']\n",
        "y_tf_idf = y_tf_idf.astype(int)\n",
        "\n",
        "# Membagi data menjadi data latih dan uji\n",
        "X_train, X_test, y_train, y_test = train_test_split(X_tf_idf, y_tf_idf, test_size=0.1, random_state=50)\n",
        "\n",
        "# Melakukan oversampling menggunakan RandomOverSampler\n",
        "ros = RandomOverSampler(random_state=50)\n",
        "X_resampled, y_resampled = ros.fit_resample(X_tf_idf, y_tf_idf)\n",
        "\n",
        "# Inisialisasi dan melatih model Naive Bayes\n",
        "algorithm = MultinomialNB()\n",
        "model = algorithm.fit(X_train, y_train)\n",
        "\n",
        "# Melakukan prediksi menggunakan model\n",
        "model_pred = model.predict(X_test)\n",
        "\n",
        "# Menampilkan hasil prediksi\n",
        "print(model_pred)\n",
        "\n",
        "# ...\n",
        "\n",
        "# Melakukan prediksi menggunakan model\n",
        "model_pred = model.predict(X_test)\n",
        "\n",
        "# Menghitung precision, recall, dan f1-score\n",
        "precision = precision_score(y_test, model_pred)\n",
        "recall = recall_score(y_test, model_pred)\n",
        "f1 = f1_score(y_test, model_pred)\n",
        "accuracy = accuracy_score(y_test, model_pred)\n",
        "\n",
        "# Menampilkan hasil\n",
        "print(\"Naive Bayes:\")\n",
        "print(f\"Precision: {precision}\")\n",
        "print(f\"Recall: {recall}\")\n",
        "print(f\"F1-Score: {f1}\")\n",
        "print(f\"Accuracy: {accuracy}\")\n",
        "\n",
        "# Visualisasi diagram batang\n",
        "metrics_names = ['Precision', 'Recall', 'F1-Score', 'Accuracy']\n",
        "metrics_values = [precision, recall, f1, accuracy]\n",
        "\n",
        "plt.bar(metrics_names, metrics_values, color=['blue', 'green', 'red', 'purple'])\n",
        "plt.title('Naive Bayes Metrics')\n",
        "plt.xlabel('Metrics')\n",
        "plt.ylabel('Score')\n",
        "plt.ylim(0, 1)  # Assuming scores are between 0 and 1\n",
        "plt.show()\n"
      ],
      "metadata": {
        "id": "APYwJrwH_8os",
        "colab": {
          "base_uri": "https://localhost:8080/",
          "height": 576
        },
        "outputId": "e2adb82e-4678-4f5c-8dff-32b6805a714d"
      },
      "execution_count": null,
      "outputs": [
        {
          "output_type": "stream",
          "name": "stdout",
          "text": [
            "[1 1 1 ... 1 1 1]\n",
            "Naive Bayes:\n",
            "Precision: 0.924082140634723\n",
            "Recall: 0.9979838709677419\n",
            "F1-Score: 0.9596122778675283\n",
            "Accuracy: 0.9226724404577792\n"
          ]
        },
        {
          "output_type": "display_data",
          "data": {
            "text/plain": [
              "<Figure size 640x480 with 1 Axes>"
            ],
            "image/png": "[encoded data removed]"
          },
          "metadata": {}
        }
      ]
    },
    {
      "cell_type": "code",
      "source": [
        "tokopedia_reviews = pd.read_csv(\"tokopedia_dropduplicate.csv\")\n",
        "\n",
        "# Inisialisasi target untuk klasifikasi\n",
        "y_tf_idf = tokopedia_reviews['label']\n",
        "y_tf_idf = y_tf_idf.astype(int)\n",
        "\n",
        "# Membagi data menjadi data latih dan uji\n",
        "X_train, X_test, y_train, y_test = train_test_split(X_tf_idf, y_tf_idf, test_size=0.2, random_state=50)\n",
        "\n",
        "# Melakukan oversampling menggunakan RandomOverSampler\n",
        "ros = RandomOverSampler(random_state=50)\n",
        "X_resampled, y_resampled = ros.fit_resample(X_tf_idf, y_tf_idf)\n",
        "\n",
        "# Inisialisasi dan melatih model Naive Bayes\n",
        "algorithm = MultinomialNB()\n",
        "model = algorithm.fit(X_train, y_train)\n",
        "\n",
        "# Melakukan prediksi menggunakan model\n",
        "model_pred = model.predict(X_test)\n",
        "\n",
        "# Menampilkan hasil prediksi\n",
        "print(model_pred)\n",
        "\n",
        "# ...\n",
        "\n",
        "# Melakukan prediksi menggunakan model\n",
        "model_pred = model.predict(X_test)\n",
        "\n",
        "# Menghitung precision, recall, dan f1-score\n",
        "precision = precision_score(y_test, model_pred)\n",
        "recall = recall_score(y_test, model_pred)\n",
        "f1 = f1_score(y_test, model_pred)\n",
        "accuracy = accuracy_score(y_test, model_pred)\n",
        "\n",
        "# Menampilkan hasil\n",
        "print(\"Naive Bayes:\")\n",
        "print(f\"Precision: {precision}\")\n",
        "print(f\"Recall: {recall}\")\n",
        "print(f\"F1-Score: {f1}\")\n",
        "print(f\"Accuracy: {accuracy}\")\n",
        "\n",
        "# Visualisasi diagram batang\n",
        "metrics_names = ['Precision', 'Recall', 'F1-Score', 'Accuracy']\n",
        "metrics_values = [precision, recall, f1, accuracy]\n",
        "\n",
        "plt.bar(metrics_names, metrics_values, color=['blue', 'green', 'red', 'purple'])\n",
        "plt.title('Naive Bayes Metrics')\n",
        "plt.xlabel('Metrics')\n",
        "plt.ylabel('Score')\n",
        "plt.ylim(0, 1)  # Assuming scores are between 0 and 1\n",
        "plt.show()\n"
      ],
      "metadata": {
        "colab": {
          "base_uri": "https://localhost:8080/",
          "height": 576
        },
        "id": "UnVDqcKhBFdx",
        "outputId": "179fd26e-c86d-45ef-a71e-4c3d63425304"
      },
      "execution_count": null,
      "outputs": [
        {
          "output_type": "stream",
          "name": "stdout",
          "text": [
            "[1 1 1 ... 1 1 1]\n",
            "Naive Bayes:\n",
            "Precision: 0.9274506757806431\n",
            "Recall: 0.9976604278074866\n",
            "F1-Score: 0.9612752596409306\n",
            "Accuracy: 0.925599381283836\n"
          ]
        },
        {
          "output_type": "display_data",
          "data": {
            "text/plain": [
              "<Figure size 640x480 with 1 Axes>"
            ],
            "image/png": "[encoded data removed]"
          },
          "metadata": {}
        }
      ]
    },
    {
      "cell_type": "code",
      "source": [
        "tokopedia_reviews = pd.read_csv(\"tokopedia_dropduplicate.csv\")\n",
        "\n",
        "# Inisialisasi target untuk klasifikasi\n",
        "y_tf_idf = tokopedia_reviews['label']\n",
        "y_tf_idf = y_tf_idf.astype(int)\n",
        "\n",
        "# Membagi data menjadi data latih dan uji\n",
        "X_train, X_test, y_train, y_test = train_test_split(X_tf_idf, y_tf_idf, test_size=0.3, random_state=50)\n",
        "\n",
        "# Melakukan oversampling menggunakan RandomOverSampler\n",
        "ros = RandomOverSampler(random_state=50)\n",
        "X_resampled, y_resampled = ros.fit_resample(X_tf_idf, y_tf_idf)\n",
        "\n",
        "# Inisialisasi dan melatih model Naive Bayes\n",
        "algorithm = MultinomialNB()\n",
        "model = algorithm.fit(X_train, y_train)\n",
        "\n",
        "# Melakukan prediksi menggunakan model\n",
        "model_pred = model.predict(X_test)\n",
        "\n",
        "# Menampilkan hasil prediksi\n",
        "print(model_pred)\n",
        "\n",
        "# ...\n",
        "\n",
        "# Melakukan prediksi menggunakan model\n",
        "model_pred = model.predict(X_test)\n",
        "\n",
        "# Menghitung precision, recall, dan f1-score\n",
        "precision = precision_score(y_test, model_pred)\n",
        "recall = recall_score(y_test, model_pred)\n",
        "f1 = f1_score(y_test, model_pred)\n",
        "accuracy = accuracy_score(y_test, model_pred)\n",
        "\n",
        "# Menampilkan hasil\n",
        "print(\"Naive Bayes:\")\n",
        "print(f\"Precision: {precision}\")\n",
        "print(f\"Recall: {recall}\")\n",
        "print(f\"F1-Score: {f1}\")\n",
        "print(f\"Accuracy: {accuracy}\")\n",
        "\n",
        "# Visualisasi diagram batang\n",
        "metrics_names = ['Precision', 'Recall', 'F1-Score', 'Accuracy']\n",
        "metrics_values = [precision, recall, f1, accuracy]\n",
        "\n",
        "plt.bar(metrics_names, metrics_values, color=['blue', 'green', 'red', 'purple'])\n",
        "plt.title('Naive Bayes Metrics')\n",
        "plt.xlabel('Metrics')\n",
        "plt.ylabel('Score')\n",
        "plt.ylim(0, 1)  # Assuming scores are between 0 and 1\n",
        "plt.show()\n"
      ],
      "metadata": {
        "colab": {
          "base_uri": "https://localhost:8080/",
          "height": 576
        },
        "id": "KXrX1on4BHAC",
        "outputId": "8b745487-c39c-4df8-8e5c-ff5998d09a28"
      },
      "execution_count": null,
      "outputs": [
        {
          "output_type": "stream",
          "name": "stdout",
          "text": [
            "[1 1 1 ... 1 1 1]\n",
            "Naive Bayes:\n",
            "Precision: 0.9232519652461729\n",
            "Recall: 0.9986574177668383\n",
            "F1-Score: 0.9594754380307428\n",
            "Accuracy: 0.9222439929875219\n"
          ]
        },
        {
          "output_type": "display_data",
          "data": {
            "text/plain": [
              "<Figure size 640x480 with 1 Axes>"
            ],
            "image/png": "[encoded data removed]"
          },
          "metadata": {}
        }
      ]
    },
    {
      "cell_type": "code",
      "source": [
        "tokopedia_reviews = pd.read_csv(\"tokopedia_dropduplicate.csv\")\n",
        "\n",
        "# Inisialisasi target untuk klasifikasi\n",
        "y_tf_idf = tokopedia_reviews['label']\n",
        "y_tf_idf = y_tf_idf.astype(int)\n",
        "\n",
        "# Membagi data menjadi data latih dan uji\n",
        "X_train, X_test, y_train, y_test = train_test_split(X_tf_idf, y_tf_idf, test_size=0.4, random_state=50)\n",
        "\n",
        "# Melakukan oversampling menggunakan RandomOverSampler\n",
        "ros = RandomOverSampler(random_state=50)\n",
        "X_resampled, y_resampled = ros.fit_resample(X_tf_idf, y_tf_idf)\n",
        "\n",
        "# Inisialisasi dan melatih model Naive Bayes\n",
        "algorithm = MultinomialNB()\n",
        "model = algorithm.fit(X_train, y_train)\n",
        "\n",
        "# Melakukan prediksi menggunakan model\n",
        "model_pred = model.predict(X_test)\n",
        "\n",
        "# Menampilkan hasil prediksi\n",
        "print(model_pred)\n",
        "\n",
        "# ...\n",
        "\n",
        "# Melakukan prediksi menggunakan model\n",
        "model_pred = model.predict(X_test)\n",
        "\n",
        "# Menghitung precision, recall, dan f1-score\n",
        "precision = precision_score(y_test, model_pred)\n",
        "recall = recall_score(y_test, model_pred)\n",
        "f1 = f1_score(y_test, model_pred)\n",
        "accuracy = accuracy_score(y_test, model_pred)\n",
        "\n",
        "# Menampilkan hasil\n",
        "print(\"Naive Bayes:\")\n",
        "print(f\"Precision: {precision}\")\n",
        "print(f\"Recall: {recall}\")\n",
        "print(f\"F1-Score: {f1}\")\n",
        "print(f\"Accuracy: {accuracy}\")\n",
        "\n",
        "# Visualisasi diagram batang\n",
        "metrics_names = ['Precision', 'Recall', 'F1-Score', 'Accuracy']\n",
        "metrics_values = [precision, recall, f1, accuracy]\n",
        "\n",
        "plt.bar(metrics_names, metrics_values, color=['blue', 'green', 'red', 'purple'])\n",
        "plt.title('Naive Bayes Metrics')\n",
        "plt.xlabel('Metrics')\n",
        "plt.ylabel('Score')\n",
        "plt.ylim(0, 1)  # Assuming scores are between 0 and 1\n",
        "plt.show()\n"
      ],
      "metadata": {
        "colab": {
          "base_uri": "https://localhost:8080/",
          "height": 576
        },
        "id": "zyTgQnDfBIRB",
        "outputId": "8e124d0c-b9e1-4f37-c44f-26808ffeb33f"
      },
      "execution_count": null,
      "outputs": [
        {
          "output_type": "stream",
          "name": "stdout",
          "text": [
            "[1 1 1 ... 1 1 1]\n",
            "Naive Bayes:\n",
            "Precision: 0.9236907344282616\n",
            "Recall: 0.9993294778308608\n",
            "F1-Score: 0.9600225451910301\n",
            "Accuracy: 0.9231959161574754\n"
          ]
        },
        {
          "output_type": "display_data",
          "data": {
            "text/plain": [
              "<Figure size 640x480 with 1 Axes>"
            ],
            "image/png": "[encoded data removed]"
          },
          "metadata": {}
        }
      ]
    },
    {
      "cell_type": "code",
      "source": [
        "tokopedia_reviews = pd.read_csv(\"tokopedia_dropduplicate.csv\")\n",
        "\n",
        "# Inisialisasi target untuk klasifikasi\n",
        "y_tf_idf = tokopedia_reviews['label']\n",
        "y_tf_idf = y_tf_idf.astype(int)\n",
        "\n",
        "# Membagi data menjadi data latih dan uji\n",
        "X_train, X_test, y_train, y_test = train_test_split(X_tf_idf, y_tf_idf, test_size=0.5, random_state=50)\n",
        "\n",
        "# Melakukan oversampling menggunakan RandomOverSampler\n",
        "ros = RandomOverSampler(random_state=50)\n",
        "X_resampled, y_resampled = ros.fit_resample(X_tf_idf, y_tf_idf)\n",
        "\n",
        "# Inisialisasi dan melatih model Naive Bayes\n",
        "algorithm = MultinomialNB()\n",
        "model = algorithm.fit(X_train, y_train)\n",
        "\n",
        "# Melakukan prediksi menggunakan model\n",
        "model_pred = model.predict(X_test)\n",
        "\n",
        "# Menampilkan hasil prediksi\n",
        "print(model_pred)\n",
        "\n",
        "# ...\n",
        "\n",
        "# Melakukan prediksi menggunakan model\n",
        "model_pred = model.predict(X_test)\n",
        "\n",
        "# Menghitung precision, recall, dan f1-score\n",
        "precision = precision_score(y_test, model_pred)\n",
        "recall = recall_score(y_test, model_pred)\n",
        "f1 = f1_score(y_test, model_pred)\n",
        "accuracy = accuracy_score(y_test, model_pred)\n",
        "\n",
        "# Menampilkan hasil\n",
        "print(\"Naive Bayes:\")\n",
        "print(f\"Precision: {precision}\")\n",
        "print(f\"Recall: {recall}\")\n",
        "print(f\"F1-Score: {f1}\")\n",
        "print(f\"Accuracy: {accuracy}\")\n",
        "\n",
        "# Visualisasi diagram batang\n",
        "metrics_names = ['Precision', 'Recall', 'F1-Score', 'Accuracy']\n",
        "metrics_values = [precision, recall, f1, accuracy]\n",
        "\n",
        "plt.bar(metrics_names, metrics_values, color=['blue', 'green', 'red', 'purple'])\n",
        "plt.title('Naive Bayes Metrics')\n",
        "plt.xlabel('Metrics')\n",
        "plt.ylabel('Score')\n",
        "plt.ylim(0, 1)  # Assuming scores are between 0 and 1\n",
        "plt.show()\n"
      ],
      "metadata": {
        "colab": {
          "base_uri": "https://localhost:8080/",
          "height": 576
        },
        "id": "bMEnV7LqBJwp",
        "outputId": "2b0e0e67-0784-497f-de9c-a4eb9edfed97"
      },
      "execution_count": null,
      "outputs": [
        {
          "output_type": "stream",
          "name": "stdout",
          "text": [
            "[1 1 1 ... 1 1 1]\n",
            "Naive Bayes:\n",
            "Precision: 0.9237057220708447\n",
            "Recall: 0.9995979091274628\n",
            "F1-Score: 0.9601544898616028\n",
            "Accuracy: 0.9233958294659984\n"
          ]
        },
        {
          "output_type": "display_data",
          "data": {
            "text/plain": [
              "<Figure size 640x480 with 1 Axes>"
            ],
            "image/png": "[encoded data removed]"
          },
          "metadata": {}
        }
      ]
    },
    {
      "cell_type": "code",
      "source": [
        "tokopedia_reviews = pd.read_csv(\"tokopedia_dropduplicate.csv\")\n",
        "\n",
        "# Combine ratings 1, 2, and 3\n",
        "tokopedia_reviews['combined_rating'] = tokopedia_reviews['rating'].apply(lambda x: 'positif' if x >= 4 else ('netral' if x == 3 else 'negatif'))\n",
        "\n",
        "# Count the occurrences of each label in the combined ratings\n",
        "combined_label_counts = tokopedia_reviews['combined_rating'].value_counts()\n",
        "\n",
        "# Plot the bar chart\n",
        "plt.figure(figsize=(8, 6))\n",
        "combined_label_counts.plot(kind='bar', color=['skyblue', 'lightcoral'])\n",
        "plt.title('visualisasi')\n",
        "plt.xlabel('Combined Ratings')\n",
        "plt.ylabel('Count')\n",
        "\n",
        "# Add percentage annotations\n",
        "total = len(tokopedia_reviews)\n",
        "for i, count in enumerate(combined_label_counts):\n",
        "    percentage = (count / total) * 100\n",
        "    plt.text(i, count + 0.1, f'{percentage:.2f}%', ha='center')\n",
        "\n",
        "plt.show()\n"
      ],
      "metadata": {
        "id": "VDgb21yOeGnr",
        "colab": {
          "base_uri": "https://localhost:8080/",
          "height": 599
        },
        "outputId": "c4d73d13-df5e-48c7-bfbc-4cbeb024c316"
      },
      "execution_count": null,
      "outputs": [
        {
          "output_type": "display_data",
          "data": {
            "text/plain": [
              "<Figure size 800x600 with 1 Axes>"
            ],
            "image/png": "[encoded data removed]"
          },
          "metadata": {}
        }
      ]
    }
  ]
}